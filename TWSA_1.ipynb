{
 "cells": [
  {
   "cell_type": "markdown",
   "metadata": {},
   "source": [
    "1.\tCompute the following ratios for all hedge funds from 1/1/2008 – 12/31/2017:\n",
    "\n",
    "•\tAnnualized Return\n",
    "•\tAnnualized Volatility\n",
    "•\tMaximum Drawdown\n",
    "•\tDuration of Drawdown (measured in years)\n",
    "•\tCalmar Ratio\n",
    "•\tSharpe Ratio\n",
    "\n",
    "\n",
    "Please note: Only those funds which have a continuous track record from 1/1/2008 – 12/31/2017 are to be considered.  For instance, if a fund starts on 1/1/2009, then it is to be excluded. Similarly, if a fund starts on 1/1/2007 but stopped reporting on 1/1/2017, then it is to be excluded. In contrast, if a fund started on 1/1/2007, and goes until 4/30/2018, then this fund is included, but only the performance from 1/1/2008 – 12/31/2017 is used for this study. "
   ]
  },
  {
   "cell_type": "code",
   "execution_count": 3,
   "metadata": {},
   "outputs": [],
   "source": [
    "import pandas as pd\n",
    "import numpy as np\n",
    "import matplotlib.pyplot as plt\n",
    "\n",
    "df = pd.read_csv('Kapil_Data.csv')\n",
    "\n",
    "df['Date'] = pd.to_datetime(df['Date'])\n",
    "\n",
    "#Filtering data outside these dates\n",
    "\n",
    "mask = (df['Date'] >= '2008-01-01') & (df['Date'] <= '2017-12-31')\n",
    "\n",
    "df_mask = df.loc[mask] # hedge funds that have reported from  1/1/2008 – 12/31/2017\n",
    "\n",
    "#Removing Graveyard funds\n",
    "\n",
    "df_live_funds = df_mask[df_mask['Live or Graveyard Fund'] == 'Live']"
   ]
  },
  {
   "cell_type": "code",
   "execution_count": 4,
   "metadata": {},
   "outputs": [],
   "source": [
    "#Choosing Funds that only have return for all the months under that 10 year period\n",
    "\n",
    "months = np.arange(1,13)\n",
    "years = np.arange(2008,2018)\n",
    "YearAndMonth = []\n",
    "for year in years:\n",
    "    for month in months:\n",
    "        YearAndMonth.append([year, month])\n",
    "        \n",
    "\n",
    "funds = df_live_funds['Fund Name'].unique()\n",
    "\n",
    "Returns_year_month = {}\n",
    "for fund in funds:\n",
    "    for date in df_live_funds[df_live_funds['Fund Name'] == fund][\"Date\"]:\n",
    "        Returns_year_month.setdefault(fund, []).append([date.year, date.month])\n",
    "\n",
    "removeFunds = []\n",
    "for fund, ym in Returns_year_month.items():\n",
    "    if Returns_year_month[fund] != YearAndMonth:\n",
    "        removeFunds.append(fund)\n",
    "#https://cmdlinetips.com/2018/02/how-to-subset-pandas-dataframe-based-on-values-of-a-column/\n",
    "# use the isin() for filtering df based on a list of values in a column\n",
    "active_funds = set(funds) - set(removeFunds)\n",
    "df_active_funds = df_live_funds[df_live_funds['Fund Name'].isin(active_funds)]"
   ]
  },
  {
   "cell_type": "code",
   "execution_count": 5,
   "metadata": {},
   "outputs": [],
   "source": [
    "### Annualized Return\n",
    "\n",
    "#df_active_funds\n",
    "\n",
    "#len(df_active_funds)\n",
    "\n",
    "df_af = df_active_funds[['Fund Name', 'Date', 'Rate of Return', 'NAV']].copy()\n",
    "\n",
    "df_af.describe()\n",
    "\n",
    "len(df_af)\n",
    "len(df_af['Fund Name'].unique())\n",
    "\n",
    "funds = df_af['Fund Name'].unique()\n",
    "fund_separated = {}##Dictionary with Key: Fund Name and Value : dataframe\n",
    "\n",
    "for fund in funds:\n",
    "    fund_separated[fund] = df_af[df_af['Fund Name'] == fund]    \n",
    "\n",
    "a= [12]\n",
    "b = a*10\n",
    "#b\n",
    "c = np.cumsum(b)\n",
    "\n",
    "def giveAnnualReturns(fund):\n",
    "    annual_Returns = []\n",
    "    for i in c:\n",
    "        #added_one = fund_separated['Fund-21']['Rate of Return'].iloc[i-12:i] + 1\n",
    "        added_one = (fund_separated[fund]['Rate of Return'].iloc[i-12:i]).div(100) + 1\n",
    "        prod = np.prod(added_one)\n",
    "        annualReturn = prod-1\n",
    "        annual_Returns.append(annualReturn)\n",
    "    return annual_Returns\n",
    "\n",
    "Annualized_Returns = [giveAnnualReturns(fund) for fund in funds]"
   ]
  },
  {
   "cell_type": "code",
   "execution_count": 6,
   "metadata": {},
   "outputs": [],
   "source": [
    "\n",
    "### Annualized Volatility\n",
    "\n",
    "def giveAnnualVolatility(fund):\n",
    "    annualized_Volatilities = []\n",
    "    for i in c:\n",
    "        #added_one = fund_separated['Fund-21']['Rate of Return'].iloc[i-12:i] + 1\n",
    "        divby100 = (fund_separated[fund]['Rate of Return'].iloc[i-12:i]).div(100)\n",
    "        sd = np.std(divby100)\n",
    "        annualVolatility = sd * np.sqrt(12)\n",
    "        annualized_Volatilities.append(annualVolatility)\n",
    "    return annualized_Volatilities\n",
    "\n",
    "Annualized_Volatility = [giveAnnualVolatility(fund) for fund in funds]"
   ]
  },
  {
   "cell_type": "code",
   "execution_count": 7,
   "metadata": {},
   "outputs": [],
   "source": [
    "#Max Drawdown\n",
    "def giveMaxDrawdown(fund):\n",
    "    drawdown = []\n",
    "    price = fund_separated[fund]['NAV']\n",
    "    for i in range(len(price)):\n",
    "        if i==0:\n",
    "            drawdown.append(0)\n",
    "        else:\n",
    "            drawdown.append((price.iloc[i]/ max(price.iloc[:i]))-1)\n",
    "    #expressed as a positive number: a 10% drop is 10%drawdown\n",
    "    return min(drawdown)*(-1)\n",
    "\n",
    "max_Drawdowns_fund = [giveMaxDrawdown(fund) for fund in funds]"
   ]
  },
  {
   "cell_type": "code",
   "execution_count": 8,
   "metadata": {},
   "outputs": [
    {
     "data": {
      "text/plain": [
       "0.8768157146549496"
      ]
     },
     "execution_count": 8,
     "metadata": {},
     "output_type": "execute_result"
    }
   ],
   "source": [
    "### Duration of Drawdown (measured in years)\n",
    "def giveMaxDrawDuration(fund):    #get the fund dataframe from the dictionary\n",
    "    fund_df = fund_separated[fund]\n",
    "\n",
    "    #get the prices(NAV) from the dataframe\n",
    "    prices = fund_df['NAV']\n",
    "\n",
    "    #calculate peaks\n",
    "    #peaks = []\n",
    "    peak_indices = []\n",
    "    for i in range(len(prices)-1):\n",
    "        if i == 0:\n",
    "            if prices.iloc[i]> prices.iloc[i+1] :\n",
    "                #peaks.append(prices.iloc[i])\n",
    "                peak_indices.append(fund_df.iloc[i].name)\n",
    "        else:\n",
    "            if (prices.iloc[i]> prices.iloc[i+1]) & (prices.iloc[i]> prices.iloc[i-1]):\n",
    "                #peaks.append(prices.iloc[i])\n",
    "                peak_indices.append(fund_df.iloc[i].name)\n",
    "    # we may have peaks of equal value in different parts of the df which is undesirable\n",
    "    #so we need the indices of the peaks\n",
    "    #peak_indices\n",
    "\n",
    "    #calculate pairs of peaks( A , B) such that peak B > peak A and find their index..\n",
    "    #peak_pairs = []\n",
    "    peak_pairs_indices = []\n",
    "    for i in range(len(peak_indices)):\n",
    "        for j in range(i+1, len(peak_indices)):\n",
    "            #dataframe.loc[index][columnName] \n",
    "            if fund_df.loc[peak_indices[j]]['NAV'] > fund_df.loc[peak_indices[i]]['NAV']:\n",
    "                #peak_pairs.append([peaks[i], peaks[j]])\n",
    "                peak_pairs_indices.append([peak_indices[i], peak_indices[j]])\n",
    "            break\n",
    "\n",
    "\n",
    "\n",
    "    #peak_pairs_indices\n",
    "\n",
    "    drawdown_times = []\n",
    "    for i in peak_pairs_indices:\n",
    "        df = fund_df.loc[i[0]:i[1]]\n",
    "        for i in range(len(df)):\n",
    "            for j in range(i+1,len(df)):\n",
    "                if df.iloc[j][\"NAV\"] > df.iloc[i][\"NAV\"]:\n",
    "                    drawdown_times.append(df.iloc[j][\"Date\"]- df.iloc[i][\"Date\"])\n",
    "                else:\n",
    "                    break\n",
    "    if drawdown_times:\n",
    "        max_drawdown_duration = max(drawdown_times).days/365\n",
    "    else:\n",
    "        max_drawdown_duration = 0\n",
    "    return max_drawdown_duration\n",
    "\n",
    "maxDrawDurations = [giveMaxDrawDuration(fund) for fund in funds]\n",
    "\n",
    "np.mean(maxDrawDurations)\n",
    "\n"
   ]
  },
  {
   "cell_type": "code",
   "execution_count": 9,
   "metadata": {},
   "outputs": [
    {
     "name": "stderr",
     "output_type": "stream",
     "text": [
      "/anaconda3/lib/python3.7/site-packages/ipykernel_launcher.py:11: RuntimeWarning: divide by zero encountered in double_scalars\n",
      "  # This is added back by InteractiveShellApp.init_path()\n"
     ]
    },
    {
     "data": {
      "text/plain": [
       "(array([544., 281.,  45.,   6.,   8.,   6.,   3.,   2.,   1.,   0.,   0.,\n",
       "          0.,   0.,   0.,   0.,   0.,   0.,   0.,   0.,   2.]),\n",
       " array([-0.15315661,  0.21958769,  0.59233198,  0.96507628,  1.33782058,\n",
       "         1.71056487,  2.08330917,  2.45605346,  2.82879776,  3.20154206,\n",
       "         3.57428635,  3.94703065,  4.31977494,  4.69251924,  5.06526354,\n",
       "         5.43800783,  5.81075213,  6.18349642,  6.55624072,  6.92898502,\n",
       "         7.30172931]),\n",
       " <a list of 20 Patch objects>)"
      ]
     },
     "execution_count": 9,
     "metadata": {},
     "output_type": "execute_result"
    },
    {
     "data": {
      "image/png": "[encoded data removed]",
      "text/plain": [
       "<Figure size 432x288 with 1 Axes>"
      ]
     },
     "metadata": {
      "needs_background": "light"
     },
     "output_type": "display_data"
    }
   ],
   "source": [
    "### Calmar Ratio\n",
    "\n",
    "#https://www.newtraderu.com/2020/01/29/the-calmar-ratio-explained/\n",
    "\n",
    "Average_Annual_RR = [np.mean(i) for i in Annualized_Returns]\n",
    "\n",
    "np.mean(Average_Annual_RR)\n",
    "\n",
    "plt.hist(Average_Annual_RR, bins = 20)\n",
    "\n",
    "calmar_Ratio = [i/j for i, j in zip(Average_Annual_RR, max_Drawdowns_fund)]\n",
    "\n",
    "calmar_Ratio[-10:]\n",
    "\n",
    "calmar_clean = [i for i in calmar_Ratio if str(i)!= 'inf' and i< 10]\n",
    "\n",
    "np.mean(calmar_clean)\n",
    "\n",
    "outliers = [i for i in calmar_clean if i >= 10 ]\n",
    "\n",
    "\n",
    "plt.hist(calmar_clean, bins = 20, edgecolor = 'black')"
   ]
  },
  {
   "cell_type": "code",
   "execution_count": 10,
   "metadata": {},
   "outputs": [
    {
     "data": {
      "text/plain": [
       "(array([ 15.,  80., 337., 304., 111.,  33.,   6.,   7.,   2.,   0.,   2.,\n",
       "          1.,   0.,   2.,   0.,   0.,   0.,   0.,   0.,   1.]),\n",
       " array([-0.6258608 , -0.31647784, -0.00709487,  0.30228809,  0.61167105,\n",
       "         0.92105402,  1.23043698,  1.53981994,  1.8492029 ,  2.15858587,\n",
       "         2.46796883,  2.77735179,  3.08673475,  3.39611772,  3.70550068,\n",
       "         4.01488364,  4.3242666 ,  4.63364957,  4.94303253,  5.25241549,\n",
       "         5.56179846]),\n",
       " <a list of 20 Patch objects>)"
      ]
     },
     "execution_count": 10,
     "metadata": {},
     "output_type": "execute_result"
    },
    {
     "data": {
      "image/png": "[encoded data removed]",
      "text/plain": [
       "<Figure size 432x288 with 1 Axes>"
      ]
     },
     "metadata": {
      "needs_background": "light"
     },
     "output_type": "display_data"
    }
   ],
   "source": [
    "\n",
    "\n",
    "### Sharpe Ratio\n",
    "\n",
    "#Average_Annual_RR \n",
    "\n",
    "std_funds = [np.std(i) for i in Annualized_Returns]\n",
    "\n",
    "SharpeRatios = [i/j for i,j in zip(Average_Annual_RR,std_funds)]\n",
    "\n",
    "plt.hist(SharpeRatios, bins = 20, edgecolor = 'black')"
   ]
  },
  {
   "cell_type": "code",
   "execution_count": null,
   "metadata": {},
   "outputs": [],
   "source": []
  }
 ],
 "metadata": {
  "kernelspec": {
   "display_name": "Python 3",
   "language": "python",
   "name": "python3"
  },
  "language_info": {
   "codemirror_mode": {
    "name": "ipython",
    "version": 3
   },
   "file_extension": ".py",
   "mimetype": "text/x-python",
   "name": "python",
   "nbconvert_exporter": "python",
   "pygments_lexer": "ipython3",
   "version": "3.7.3"
  }
 },
 "nbformat": 4,
 "nbformat_minor": 2
}
